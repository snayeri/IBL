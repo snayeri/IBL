{
 "cells": [
  {
   "cell_type": "markdown",
   "metadata": {},
   "source": [
    "### IBL example for a basket of ETF's "
   ]
  },
  {
   "cell_type": "markdown",
   "metadata": {},
   "source": [
    "These setups are required to run this example in windows Python"
   ]
  },
  {
   "cell_type": "code",
   "execution_count": 1,
   "metadata": {},
   "outputs": [],
   "source": [
    "import pandas as pd\n",
    "import numpy as np"
   ]
  },
  {
   "cell_type": "code",
   "execution_count": 2,
   "metadata": {},
   "outputs": [
    {
     "name": "stdout",
     "output_type": "stream",
     "text": [
      "Collecting IBL\n",
      "  Cloning https://github.com/snayeri/IBL.git to c:\\users\\spk26\\appdata\\local\\temp\\pip-install-yw18hzaw\\ibl\n",
      "Requirement already satisfied: numpy in c:\\users\\spk26\\anaconda3\\lib\\site-packages (from IBL) (1.18.5)\n",
      "Requirement already satisfied: pandas in c:\\users\\spk26\\anaconda3\\lib\\site-packages (from IBL) (1.0.5)\n",
      "Requirement already satisfied: pandas_datareader in c:\\users\\spk26\\anaconda3\\lib\\site-packages (from IBL) (0.9.0)\n",
      "Requirement already satisfied: scipy in c:\\users\\spk26\\anaconda3\\lib\\site-packages (from IBL) (1.5.0)\n",
      "Requirement already satisfied: pytz>=2017.2 in c:\\users\\spk26\\anaconda3\\lib\\site-packages (from pandas->IBL) (2020.1)\n",
      "Requirement already satisfied: python-dateutil>=2.6.1 in c:\\users\\spk26\\anaconda3\\lib\\site-packages (from pandas->IBL) (2.8.1)\n",
      "Requirement already satisfied: lxml in c:\\users\\spk26\\anaconda3\\lib\\site-packages (from pandas_datareader->IBL) (4.5.2)\n",
      "Requirement already satisfied: requests>=2.19.0 in c:\\users\\spk26\\anaconda3\\lib\\site-packages (from pandas_datareader->IBL) (2.24.0)\n",
      "Note: you may need to restart the kernel to use updated packages.Requirement already satisfied: six>=1.5 in c:\\users\\spk26\\anaconda3\\lib\\site-packages (from python-dateutil>=2.6.1->pandas->IBL) (1.15.0)\n",
      "Requirement already satisfied: idna<3,>=2.5 in c:\\users\\spk26\\anaconda3\\lib\\site-packages (from requests>=2.19.0->pandas_datareader->IBL) (2.10)\n",
      "Requirement already satisfied: certifi>=2017.4.17 in c:\\users\\spk26\\anaconda3\\lib\\site-packages (from requests>=2.19.0->pandas_datareader->IBL) (2020.6.20)\n",
      "Requirement already satisfied: chardet<4,>=3.0.2 in c:\\users\\spk26\\anaconda3\\lib\\site-packages (from requests>=2.19.0->pandas_datareader->IBL) (3.0.4)\n",
      "Requirement already satisfied: urllib3!=1.25.0,!=1.25.1,<1.26,>=1.21.1 in c:\\users\\spk26\\anaconda3\\lib\\site-packages (from requests>=2.19.0->pandas_datareader->IBL) (1.25.9)\n",
      "Building wheels for collected packages: IBL\n",
      "  Building wheel for IBL (setup.py): started\n",
      "  Building wheel for IBL (setup.py): finished with status 'done'\n",
      "  Created wheel for IBL: filename=IBL-0.1-py3-none-any.whl size=242755 sha256=d786ac036ded66e509c90ccd7086c980c90257892ae09324c46b4d0b8fba01a3\n",
      "  Stored in directory: C:\\Users\\spk26\\AppData\\Local\\Temp\\pip-ephem-wheel-cache-ocvrfy6y\\wheels\\00\\95\\8b\\a7db92f7ee31cbaf808f18ec3350a1f76b28162e1cc5414f60\n",
      "Successfully built IBL\n",
      "Installing collected packages: IBL\n",
      "Successfully installed IBL-0.1\n",
      "\n"
     ]
    },
    {
     "name": "stderr",
     "output_type": "stream",
     "text": [
      "  Running command git clone -q https://github.com/snayeri/IBL.git 'C:\\Users\\spk26\\AppData\\Local\\Temp\\pip-install-yw18hzaw\\IBL'\n"
     ]
    }
   ],
   "source": [
    "pip install git+https://github.com/snayeri/IBL.git#egg=IBL"
   ]
  },
  {
   "cell_type": "markdown",
   "metadata": {},
   "source": [
    "For this example, daily prices of the following securities for period 01-30-2009 to 04-01-2021 are loaded from the package. The data is downloaded from yahoo using pandas_datareader:"
   ]
  },
  {
   "cell_type": "markdown",
   "metadata": {},
   "source": [
    "1. portfolio dataframe consists of the following ETFs: "
   ]
  },
  {
   "cell_type": "markdown",
   "metadata": {},
   "source": [
    "| ETF | representation |\n",
    "| :--- | :-------------- |\n",
    "| SPY | large cap US equities |\n",
    "| VB | small cap US equities |\n",
    "| FXI | large cap Chinese equities |\n",
    "| VGK | Europe equities |\n",
    "| EWJ | Japan equities |\n",
    "| VWO | emerging market equities |\n",
    "| LQD | US corporate bonds |\n",
    "| IGOV | International treasury bonds |\n",
    "| GLD | commodities |\n",
    "|SLV | commodities |"
   ]
  },
  {
   "cell_type": "markdown",
   "metadata": {},
   "source": [
    "2. market is represented by ACWI\n",
    "3. marketcap is the total number of shares for each security multiplied by its last price\n",
    "4. riskfree is derived from quotes for 90 day t-bills, converted to daily risk free rate, according to [convention](https://www.treasurydirect.gov/instit/annceresult/press/preanre/2004/ofcalc6decbill.pdf)"
   ]
  },
  {
   "cell_type": "code",
   "execution_count": 3,
   "metadata": {},
   "outputs": [],
   "source": [
    "import IBL.data.portfolio\n",
    "portfolio = IBL.data.portfolio.load()\n",
    "import IBL.data.market\n",
    "market = IBL.data.market.load()\n",
    "import IBL.data.marketcap\n",
    "marketcap = IBL.data.marketcap.load()\n",
    "import IBL.data.riskfree\n",
    "riskfree = IBL.data.riskfree.load()"
   ]
  },
  {
   "cell_type": "markdown",
   "metadata": {},
   "source": [
    "Next step is to import the Idzorek_BL model and place the above data in the model"
   ]
  },
  {
   "cell_type": "code",
   "execution_count": 4,
   "metadata": {},
   "outputs": [],
   "source": [
    "from IBL import IBL_model"
   ]
  },
  {
   "cell_type": "code",
   "execution_count": 5,
   "metadata": {},
   "outputs": [],
   "source": [
    "example = IBL_model(portfolio.loc[:'2021-03-31'],marketcap,market.loc[:'2021-03-31'],riskfree,0.025)"
   ]
  },
  {
   "cell_type": "markdown",
   "metadata": {},
   "source": [
    "### now let's add a view\n",
    "let's assume we believe that over the next month, with 50% confidence, SPY will outperform IGOV by 1%\n",
    "First thing is to define a dataframe with view vector(rho) and corresponding confidence  "
   ]
  },
  {
   "cell_type": "code",
   "execution_count": 6,
   "metadata": {},
   "outputs": [
    {
     "data": {
      "text/html": [
       "<div>\n",
       "<style scoped>\n",
       "    .dataframe tbody tr th:only-of-type {\n",
       "        vertical-align: middle;\n",
       "    }\n",
       "\n",
       "    .dataframe tbody tr th {\n",
       "        vertical-align: top;\n",
       "    }\n",
       "\n",
       "    .dataframe thead th {\n",
       "        text-align: right;\n",
       "    }\n",
       "</style>\n",
       "<table border=\"1\" class=\"dataframe\">\n",
       "  <thead>\n",
       "    <tr style=\"text-align: right;\">\n",
       "      <th></th>\n",
       "      <th>rho</th>\n",
       "      <th>confidence</th>\n",
       "    </tr>\n",
       "  </thead>\n",
       "  <tbody>\n",
       "    <tr>\n",
       "      <th>SPY</th>\n",
       "      <td>1</td>\n",
       "      <td>0.5</td>\n",
       "    </tr>\n",
       "    <tr>\n",
       "      <th>VB</th>\n",
       "      <td>0</td>\n",
       "      <td>0.0</td>\n",
       "    </tr>\n",
       "    <tr>\n",
       "      <th>FXI</th>\n",
       "      <td>0</td>\n",
       "      <td>0.0</td>\n",
       "    </tr>\n",
       "    <tr>\n",
       "      <th>VGK</th>\n",
       "      <td>0</td>\n",
       "      <td>0.0</td>\n",
       "    </tr>\n",
       "    <tr>\n",
       "      <th>EWJ</th>\n",
       "      <td>0</td>\n",
       "      <td>0.0</td>\n",
       "    </tr>\n",
       "    <tr>\n",
       "      <th>VWO</th>\n",
       "      <td>0</td>\n",
       "      <td>0.0</td>\n",
       "    </tr>\n",
       "    <tr>\n",
       "      <th>LQD</th>\n",
       "      <td>0</td>\n",
       "      <td>0.0</td>\n",
       "    </tr>\n",
       "    <tr>\n",
       "      <th>IGOV</th>\n",
       "      <td>-1</td>\n",
       "      <td>0.5</td>\n",
       "    </tr>\n",
       "    <tr>\n",
       "      <th>GLD</th>\n",
       "      <td>0</td>\n",
       "      <td>0.0</td>\n",
       "    </tr>\n",
       "    <tr>\n",
       "      <th>SLV</th>\n",
       "      <td>0</td>\n",
       "      <td>0.0</td>\n",
       "    </tr>\n",
       "  </tbody>\n",
       "</table>\n",
       "</div>"
      ],
      "text/plain": [
       "      rho  confidence\n",
       "SPY     1         0.5\n",
       "VB      0         0.0\n",
       "FXI     0         0.0\n",
       "VGK     0         0.0\n",
       "EWJ     0         0.0\n",
       "VWO     0         0.0\n",
       "LQD     0         0.0\n",
       "IGOV   -1         0.5\n",
       "GLD     0         0.0\n",
       "SLV     0         0.0"
      ]
     },
     "execution_count": 6,
     "metadata": {},
     "output_type": "execute_result"
    }
   ],
   "source": [
    "outperformer = 'SPY'\n",
    "underperformer = 'IGOV'\n",
    "rhh = pd.DataFrame(index=portfolio.columns)\n",
    "rhh.loc[:,'rho']=0\n",
    "rhh.loc[:,'confidence'] =0\n",
    "rhh.loc[outperformer,'rho'] = 1\n",
    "rhh.loc[underperformer,'rho'] = -1\n",
    "rhh.loc[outperformer,'confidence'] = 0.50\n",
    "rhh.loc[underperformer,'confidence'] = 0.50\n",
    "rhh"
   ]
  },
  {
   "cell_type": "code",
   "execution_count": 7,
   "metadata": {},
   "outputs": [
    {
     "data": {
      "text/plain": [
       "array([0.0093559 , 0.01224927, 0.00955845, 0.01108404, 0.00712169,\n",
       "       0.01114654, 0.00172324, 0.00207014, 0.00192365, 0.00890946])"
      ]
     },
     "execution_count": 7,
     "metadata": {},
     "output_type": "execute_result"
    }
   ],
   "source": [
    "example.views_expected_r(np.array([0.01]),np.array([rhh['rho']]),np.array([rhh['confidence']]))"
   ]
  },
  {
   "cell_type": "markdown",
   "metadata": {},
   "source": [
    "These new expected return premiums' vector can now be used in portfolio optimzation"
   ]
  }
 ],
 "metadata": {
  "kernelspec": {
   "display_name": "Python 3",
   "language": "python",
   "name": "python3"
  },
  "language_info": {
   "codemirror_mode": {
    "name": "ipython",
    "version": 3
   },
   "file_extension": ".py",
   "mimetype": "text/x-python",
   "name": "python",
   "nbconvert_exporter": "python",
   "pygments_lexer": "ipython3",
   "version": "3.8.3"
  }
 },
 "nbformat": 4,
 "nbformat_minor": 4
}
